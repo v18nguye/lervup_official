{
 "cells": [
  {
   "cell_type": "code",
   "execution_count": 5,
   "metadata": {},
   "outputs": [],
   "source": [
    "import json"
   ]
  },
  {
   "cell_type": "code",
   "execution_count": 52,
   "metadata": {},
   "outputs": [],
   "source": [
    "mapping = {'it':'job_search_IT',\n",
    "           'bank':'bank_credit',\n",
    "           'wait':'job_search_waiter_waitress',\n",
    "           'acc':'accommodation_search'}"
   ]
  },
  {
   "cell_type": "code",
   "execution_count": 58,
   "metadata": {},
   "outputs": [],
   "source": [
    "trainfile = json.load(open('../aware_train/gt_train.json'))\n",
    "valfile = json.load(open('../aware_train/gt_val.json'))"
   ]
  },
  {
   "cell_type": "code",
   "execution_count": 59,
   "metadata": {},
   "outputs": [],
   "source": [
    "def convert(file, save_dict = {}):\n",
    "    for user, situs in file.items():\n",
    "        for situ, score in situs.items():\n",
    "            if mapping[situ] not in save_dict:\n",
    "                save_dict[mapping[situ]] = {}\n",
    "            save_dict[mapping[situ]][user] = score\n",
    "    return save_dict"
   ]
  },
  {
   "cell_type": "code",
   "execution_count": 60,
   "metadata": {},
   "outputs": [],
   "source": [
    "train_dict = convert(trainfile)\n",
    "val_train_dict = convert(valfile, train_dict)"
   ]
  },
  {
   "cell_type": "code",
   "execution_count": 61,
   "metadata": {},
   "outputs": [],
   "source": [
    "json.dump(val_train_dict,open('../data/gt_ptrainval.json', 'w'))"
   ]
  },
  {
   "cell_type": "code",
   "execution_count": 62,
   "metadata": {},
   "outputs": [],
   "source": [
    "trtedata = json.load(open('../../process_raw_data/out/train_test_split_mobinet_v1.json'))"
   ]
  },
  {
   "cell_type": "code",
   "execution_count": 63,
   "metadata": {},
   "outputs": [
    {
     "data": {
      "text/plain": [
       "dict_keys(['train', 'test', 'ratio_minibacthes', 'users'])"
      ]
     },
     "execution_count": 63,
     "metadata": {},
     "output_type": "execute_result"
    }
   ],
   "source": [
    "trtedata.keys()"
   ]
  },
  {
   "cell_type": "code",
   "execution_count": 64,
   "metadata": {},
   "outputs": [
    {
     "data": {
      "text/plain": [
       "dict_keys(['17573696@N00', '7626777@N02', '30952578@N00', '29233640@N07', '74743437@N00', '13408725@N03', '8970099@N04', '28555778@N00', '73621375@N00', '29057345@N04', '27917561@N00', '19451080@N00', '58598613@N00', '18203847@N00', '26406919@N00', '35034350386@N01', '16555488@N00', '43661283@N00', '18378305@N00', '7512717@N06', '29427020@N00', '15087210@N00', '37961843@N00', '87734610@N00', '48889087714@N01', '32628129@N04', '23344533@N00', '28085418@N07', '68546684@N00', '28567825@N03', '52971398@N00', '23609393@N03', '16036153@N04', '31608675@N00', '49173159@N00', '33124677@N00', '18684820@N00', '16395461@N00', '70544918@N00', '20741443@N00', '99125755@N00', '35468158048@N01', '7791881@N04', '48165069@N00', '83261600@N00', '58117789@N00', '23401669@N00', '27073477@N00', '8070463@N03', '66436184@N00', '13222990@N00', '7669837@N08', '39685874@N00', '8399025@N07', '54602205@N00', '14228046@N03', '9445648@N03', '39415781@N06', '22768390@N00', '70985593@N00', '16057786@N00', '82995349@N00', '75750266@N08', '54799099@N00', '80072069@N00', '80547277@N00', '7945858@N08', '66434265@N00', '52928371@N00', '48889122860@N01', '75166820@N00', '53130103@N05', '45767493@N00', '90146022@N00', '20561948@N00', '10287726@N02', '40775084@N05', '54758495@N00', '74105777@N00', '49503124519@N01', '51378257@N00', '62091376@N03', '40991250@N00', '62586117@N05', '48600101641@N01', '40999618@N05', '42925588@N00', '40295335@N00', '35468141938@N01', '91256982@N00', '10506540@N07', '17669664@N05', '87762368@N00', '34120957@N04', '24484507@N00', '92283658@N00', '12915821@N00', '68992643@N00', '44124450371@N01', '16151021@N00'])"
      ]
     },
     "execution_count": 64,
     "metadata": {},
     "output_type": "execute_result"
    }
   ],
   "source": [
    "trtedata['test'].keys()"
   ]
  },
  {
   "cell_type": "code",
   "execution_count": 65,
   "metadata": {},
   "outputs": [],
   "source": [
    "prd_train = json.load(open('../aware_train/predictions_train.json'))\n",
    "prd_test = json.load(open('../aware_train/predictions_val.json'))\n",
    "prdtest2 = json.load(open('../aware_train/predictions_test.json'))"
   ]
  },
  {
   "cell_type": "code",
   "execution_count": 66,
   "metadata": {},
   "outputs": [],
   "source": [
    "cvt_prd = {}\n",
    "cvt_prd['train'] = {}\n",
    "cvt_prd['train']['100'] = {}\n",
    "for user, data in prd_train.items():\n",
    "    cvt_prd['train']['100'][user] = {}\n",
    "    for im, verdicts in data.items():\n",
    "        cvt_prd['train']['100'][user][im] = {}\n",
    "        for verdict in verdicts:\n",
    "            parts = verdict.split(' ')\n",
    "            if parts[0] not in cvt_prd['train']['100'][user][im]:\n",
    "                cvt_prd['train']['100'][user][im][parts[0]] = []\n",
    "            cvt_prd['train']['100'][user][im][parts[0]].append(float(parts[1]))\n",
    "\n",
    "cvt_prd['test'] = {}\n",
    "for user, data in prd_test.items():\n",
    "    cvt_prd['test'][user] = {}\n",
    "    for im, verdicts in data.items():\n",
    "        cvt_prd['test'][user][im] = {}\n",
    "        for verdict in verdicts:\n",
    "            parts = verdict.split(' ')\n",
    "            if parts[0] not in cvt_prd['test'][user][im]:\n",
    "                cvt_prd['test'][user][im][parts[0]] = []\n",
    "            cvt_prd['test'][user][im][parts[0]].append(float(parts[1]))"
   ]
  },
  {
   "cell_type": "code",
   "execution_count": 67,
   "metadata": {},
   "outputs": [],
   "source": [
    "cvt2_prd = {}\n",
    "for user, data in prdtest2.items():\n",
    "    cvt2_prd[user] = {}\n",
    "    for im, verdicts in data.items():\n",
    "        cvt2_prd[user][im] = {}\n",
    "        for verdict in verdicts:\n",
    "            parts = verdict.split(' ')\n",
    "            if parts[0] not in cvt2_prd[user][im]:\n",
    "                cvt2_prd[user][im][parts[0]] = []\n",
    "            cvt2_prd[user][im][parts[0]].append(float(parts[1]))"
   ]
  },
  {
   "cell_type": "code",
   "execution_count": 68,
   "metadata": {},
   "outputs": [],
   "source": [
    "json.dump(cvt_prd,open('../data/train_val_preds.json', 'w'))\n",
    "json.dump(cvt2_prd,open('../data/test_preds.json', 'w'))"
   ]
  },
  {
   "cell_type": "code",
   "execution_count": 80,
   "metadata": {},
   "outputs": [
    {
     "name": "stdout",
     "output_type": "stream",
     "text": [
      "360\n",
      "40\n"
     ]
    }
   ],
   "source": [
    "print(len(cvt_prd['train']['100']))\n",
    "print(len(cvt_prd['test']))"
   ]
  },
  {
   "cell_type": "code",
   "execution_count": 81,
   "metadata": {},
   "outputs": [
    {
     "data": {
      "text/plain": [
       "100"
      ]
     },
     "execution_count": 81,
     "metadata": {},
     "output_type": "execute_result"
    }
   ],
   "source": [
    "len(cvt2_prd)"
   ]
  },
  {
   "cell_type": "code",
   "execution_count": 69,
   "metadata": {},
   "outputs": [],
   "source": [
    "class_situs = json.load(open('../aware_train/class_scores.json'))"
   ]
  },
  {
   "cell_type": "code",
   "execution_count": 72,
   "metadata": {},
   "outputs": [],
   "source": [
    "classdict = {}\n",
    "for vis_concept, situs in class_situs.items():\n",
    "    for situ, score in situs.items():\n",
    "        if mapping[situ] not in classdict:\n",
    "            classdict[mapping[situ]] = {}\n",
    "        classdict[mapping[situ]][vis_concept] = float(score)"
   ]
  },
  {
   "cell_type": "code",
   "execution_count": 73,
   "metadata": {},
   "outputs": [],
   "source": [
    "json.dump(classdict,open('../data/vis_concept_situ.json', 'w'))"
   ]
  },
  {
   "cell_type": "code",
   "execution_count": null,
   "metadata": {},
   "outputs": [],
   "source": []
  }
 ],
 "metadata": {
  "kernelspec": {
   "display_name": "Python 3",
   "language": "python",
   "name": "python3"
  },
  "language_info": {
   "codemirror_mode": {
    "name": "ipython",
    "version": 3
   },
   "file_extension": ".py",
   "mimetype": "text/x-python",
   "name": "python",
   "nbconvert_exporter": "python",
   "pygments_lexer": "ipython3",
   "version": "3.8.5"
  }
 },
 "nbformat": 4,
 "nbformat_minor": 4
}
