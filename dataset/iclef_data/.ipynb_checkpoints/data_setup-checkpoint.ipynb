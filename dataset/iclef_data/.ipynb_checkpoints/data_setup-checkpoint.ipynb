{
 "cells": [
  {
   "cell_type": "code",
   "execution_count": 1,
   "metadata": {},
   "outputs": [],
   "source": [
    "import os\n",
    "import sys\n",
    "import json\n",
    "\n",
    "import numpy as np\n",
    "import pandas as pd"
   ]
  },
  {
   "cell_type": "code",
   "execution_count": 2,
   "metadata": {},
   "outputs": [],
   "source": [
    "vc_dict = {'acc': 'accommodation_search', 'it': 'job_search_IT', \\\n",
    "           'bank': 'bank_credit', 'wait': 'job_search_waiter_waitress'}"
   ]
  },
  {
   "cell_type": "markdown",
   "metadata": {},
   "source": [
    "### Setup visual concepts"
   ]
  },
  {
   "cell_type": "code",
   "execution_count": 11,
   "metadata": {},
   "outputs": [],
   "source": [
    "vc_data = json.load(open('./raw_data/class_scores.json'))"
   ]
  },
  {
   "cell_type": "code",
   "execution_count": 12,
   "metadata": {},
   "outputs": [],
   "source": [
    "facc = open('./visual_concepts/'+vc_dict['acc']+'.txt', 'a')\n",
    "fit = open('./visual_concepts/'+vc_dict['it']+'.txt', 'a')\n",
    "fbank = open('./visual_concepts/'+vc_dict['bank']+'.txt', 'a')\n",
    "fwait = open('./visual_concepts/'+vc_dict['wait']+'.txt', 'a')"
   ]
  },
  {
   "cell_type": "code",
   "execution_count": 13,
   "metadata": {},
   "outputs": [],
   "source": [
    "for vsc, situs in vc_data.items():\n",
    "    facc.write(vsc+' '+situs['acc']+'\\n')\n",
    "    fit.write(vsc+' '+situs['it']+'\\n')\n",
    "    fbank.write(vsc+' '+situs['bank']+'\\n')\n",
    "    fwait.write(vsc+' '+situs['wait']+'\\n')\n",
    "facc.close()\n",
    "fit.close()\n",
    "fbank.close()\n",
    "fwait.close()"
   ]
  },
  {
   "cell_type": "markdown",
   "metadata": {},
   "source": [
    "### Setup train/val ground_truth user exposure."
   ]
  },
  {
   "cell_type": "code",
   "execution_count": 3,
   "metadata": {},
   "outputs": [],
   "source": [
    "gt_train = json.load(open('./raw_data/gt_train.json'))\n",
    "gt_val = json.load(open('./raw_data/gt_val.json'))\n",
    "gt_trainval_users = {**gt_train, **gt_val}"
   ]
  },
  {
   "cell_type": "code",
   "execution_count": 6,
   "metadata": {},
   "outputs": [],
   "source": [
    "gt_train_val_dict = {}\n",
    "for user, situs in gt_trainval_users.items():\n",
    "    for situ, score in situs.items():\n",
    "        if vc_dict[situ] not in gt_train_val_dict:\n",
    "            gt_train_val_dict[vc_dict[situ]] = {}\n",
    "        gt_train_val_dict[vc_dict[situ]][user] = score"
   ]
  },
  {
   "cell_type": "code",
   "execution_count": 8,
   "metadata": {},
   "outputs": [],
   "source": [
    "json.dump(gt_train_val_dict, open('./gt_trainval_uexposure.json', 'w'))"
   ]
  },
  {
   "cell_type": "markdown",
   "metadata": {},
   "source": [
    "### Setup train/val/test visual concept detection."
   ]
  },
  {
   "cell_type": "code",
   "execution_count": 12,
   "metadata": {},
   "outputs": [],
   "source": [
    "cpt_detection_dict = {'train': {}, 'val': {}, 'test': {}}\n",
    "pred_train = json.load(open('./raw_data/predictions_train.json'))\n",
    "pred_val = json.load(open('./raw_data/predictions_val.json'))\n",
    "pred_test = json.load(open('./raw_data/predictions_test.json'))"
   ]
  },
  {
   "cell_type": "code",
   "execution_count": 16,
   "metadata": {},
   "outputs": [],
   "source": [
    "for user, ims in pred_train.items():\n",
    "    cpt_detection_dict['train'][user] = {}\n",
    "    for im, viscpts in ims.items():\n",
    "        cpt_detection_dict['train'][user][im] = {}\n",
    "        for cpt_det in viscpts:\n",
    "            parts = cpt_det.split(' ')\n",
    "            cpt_name = parts[0]\n",
    "            cpt_score = float(parts[1])\n",
    "            if cpt_name not in cpt_detection_dict['train'][user][im]:\n",
    "                cpt_detection_dict['train'][user][im][cpt_name] = []\n",
    "            cpt_detection_dict['train'][user][im][cpt_name].append(cpt_score)\n",
    "            \n",
    "for user, ims in pred_val.items():\n",
    "    cpt_detection_dict['val'][user] = {}\n",
    "    for im, viscpts in ims.items():\n",
    "        cpt_detection_dict['val'][user][im] = {}\n",
    "        for cpt_det in viscpts:\n",
    "            parts = cpt_det.split(' ')\n",
    "            cpt_name = parts[0]\n",
    "            cpt_score = float(parts[1])\n",
    "            if cpt_name not in cpt_detection_dict['val'][user][im]:\n",
    "                cpt_detection_dict['val'][user][im][cpt_name] = []\n",
    "            cpt_detection_dict['val'][user][im][cpt_name].append(cpt_score)\n",
    "            \n",
    "for user, ims in pred_test.items():\n",
    "    cpt_detection_dict['test'][user] = {}\n",
    "    for im, viscpts in ims.items():\n",
    "        cpt_detection_dict['test'][user][im] = {}\n",
    "        for cpt_det in viscpts:\n",
    "            parts = cpt_det.split(' ')\n",
    "            cpt_name = parts[0]\n",
    "            cpt_score = float(parts[1])\n",
    "            if cpt_name not in cpt_detection_dict['test'][user][im]:\n",
    "                cpt_detection_dict['test'][user][im][cpt_name] = []\n",
    "            cpt_detection_dict['test'][user][im][cpt_name].append(cpt_score)"
   ]
  },
  {
   "cell_type": "code",
   "execution_count": 17,
   "metadata": {},
   "outputs": [],
   "source": [
    "json.dump(cpt_detection_dict, open('./trainvaltest_detection_split_imageclef.json', 'w'))"
   ]
  }
 ],
 "metadata": {
  "kernelspec": {
   "display_name": "global_py36_tf112_torch160",
   "language": "python",
   "name": "global_py36_tf112_torch160"
  },
  "language_info": {
   "codemirror_mode": {
    "name": "ipython",
    "version": 3
   },
   "file_extension": ".py",
   "mimetype": "text/x-python",
   "name": "python",
   "nbconvert_exporter": "python",
   "pygments_lexer": "ipython3",
   "version": "3.6.13"
  }
 },
 "nbformat": 4,
 "nbformat_minor": 2
}
