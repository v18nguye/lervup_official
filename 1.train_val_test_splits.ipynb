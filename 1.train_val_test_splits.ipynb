{
 "cells": [
  {
   "cell_type": "code",
   "execution_count": 1,
   "metadata": {},
   "outputs": [],
   "source": [
    "import os\n",
    "import json\n",
    "import random\n",
    "random.seed(2021)\n",
    "from random import shuffle"
   ]
  },
  {
   "cell_type": "code",
   "execution_count": 2,
   "metadata": {},
   "outputs": [],
   "source": [
    "old_file_mobi = json.load(open('./dataset/lervup_data/train_test_split_mobinet_v1.json', 'r'))\n",
    "old_file_rcnn = json.load(open('./dataset/lervup_data/train_test_split_rcnn_v1.json', 'r'))"
   ]
  },
  {
   "cell_type": "code",
   "execution_count": 3,
   "metadata": {},
   "outputs": [
    {
     "data": {
      "text/plain": [
       "dict_keys(['train', 'test', 'ratio-minibacthes', 'users'])"
      ]
     },
     "execution_count": 3,
     "metadata": {},
     "output_type": "execute_result"
    }
   ],
   "source": [
    "old_file_rcnn.keys()"
   ]
  },
  {
   "cell_type": "code",
   "execution_count": 14,
   "metadata": {},
   "outputs": [],
   "source": [
    "new_test_rcnn = old_file_rcnn['test']\n",
    "new_test_mobi = old_file_mobi['test']"
   ]
  },
  {
   "cell_type": "code",
   "execution_count": 15,
   "metadata": {},
   "outputs": [
    {
     "name": "stdout",
     "output_type": "stream",
     "text": [
      "400 400\n"
     ]
    }
   ],
   "source": [
    "old_train_mobi = old_file_mobi['train']['100']\n",
    "old_train_rcnn = old_file_rcnn['train']['100']\n",
    "print(len(old_train_mobi), len(old_train_rcnn))"
   ]
  },
  {
   "cell_type": "code",
   "execution_count": 16,
   "metadata": {},
   "outputs": [],
   "source": [
    "users = list(old_train_mobi.keys())"
   ]
  },
  {
   "cell_type": "code",
   "execution_count": 17,
   "metadata": {},
   "outputs": [
    {
     "name": "stdout",
     "output_type": "stream",
     "text": [
      "350 175 50\n"
     ]
    }
   ],
   "source": [
    "shuffle(users)\n",
    "train_users = users[:350]\n",
    "train_half_user = users[:175]\n",
    "val_users = users[350:]\n",
    "print(len(train_users), len(train_half_user), len(val_users))"
   ]
  },
  {
   "cell_type": "code",
   "execution_count": 18,
   "metadata": {},
   "outputs": [
    {
     "name": "stdout",
     "output_type": "stream",
     "text": [
      "350 175 50\n",
      "350 175 50\n"
     ]
    }
   ],
   "source": [
    "new_train_mobi = {x: old_train_mobi[x] for x in train_users}\n",
    "new_train_half_mobi = {x: old_train_mobi[x] for x in train_half_user}\n",
    "new_val_mobi = {x: old_train_mobi[x] for x in val_users}\n",
    "\n",
    "new_train_rcnn = {x: old_train_rcnn[x] for x in train_users}\n",
    "new_train_half_rcnn = {x: old_train_rcnn[x] for x in train_half_user}\n",
    "new_val_rcnn = {x: old_train_rcnn[x] for x in val_users}\n",
    "print(len(new_train_mobi), len(new_train_half_mobi), len(new_val_mobi))\n",
    "print(len(new_train_rcnn), len(new_train_half_rcnn), len(new_val_rcnn))"
   ]
  },
  {
   "cell_type": "code",
   "execution_count": 19,
   "metadata": {},
   "outputs": [],
   "source": [
    "dataset_rcnn = {'train': {'50': new_train_half_rcnn, '100': new_train_rcnn}, 'val': new_val_rcnn, 'test': new_test_rcnn}\n",
    "dataset_mobi = {'train': {'50': new_train_half_mobi, '100': new_train_mobi}, 'val': new_val_mobi, 'test': new_test_mobi}"
   ]
  },
  {
   "cell_type": "code",
   "execution_count": 20,
   "metadata": {},
   "outputs": [],
   "source": [
    "json.dump(dataset_rcnn, open('./dataset/lervup_data/train_val_test_split_rcnn_v2.json', 'w'))\n",
    "json.dump(dataset_mobi, open('./dataset/lervup_data/train_val_test_split_mobinet_v2.json', 'w'))"
   ]
  }
 ],
 "metadata": {
  "kernelspec": {
   "display_name": "global_py36_tf112_torch160",
   "language": "python",
   "name": "global_py36_tf112_torch160"
  },
  "language_info": {
   "codemirror_mode": {
    "name": "ipython",
    "version": 3
   },
   "file_extension": ".py",
   "mimetype": "text/x-python",
   "name": "python",
   "nbconvert_exporter": "python",
   "pygments_lexer": "ipython3",
   "version": "3.6.13"
  }
 },
 "nbformat": 4,
 "nbformat_minor": 2
}
